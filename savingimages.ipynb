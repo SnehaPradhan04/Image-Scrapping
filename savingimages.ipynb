{
  "nbformat": 4,
  "nbformat_minor": 0,
  "metadata": {
    "colab": {
      "provenance": [],
      "authorship_tag": "ABX9TyOWJ3Ivq1aEPlic6oNX6fUN",
      "include_colab_link": true
    },
    "kernelspec": {
      "name": "python3",
      "display_name": "Python 3"
    },
    "language_info": {
      "name": "python"
    }
  },
  "cells": [
    {
      "cell_type": "markdown",
      "metadata": {
        "id": "view-in-github",
        "colab_type": "text"
      },
      "source": [
        "<a href=\"https://colab.research.google.com/github/SnehaPradhan04/Image-Scrapping/blob/main/savingimages.ipynb\" target=\"_parent\"><img src=\"https://colab.research.google.com/assets/colab-badge.svg\" alt=\"Open In Colab\"/></a>"
      ]
    },
    {
      "cell_type": "code",
      "execution_count": null,
      "metadata": {
        "id": "Mxif1IkT6Iu-"
      },
      "outputs": [],
      "source": [
        "import requests\n",
        "from bs4 import BeautifulSoup\n",
        "from urllib.request import urlopen\n",
        "import logging\n",
        "import os"
      ]
    },
    {
      "cell_type": "code",
      "source": [
        "save_dir = \"images/\"\n",
        "if not os.path.exists(save_dir):\n",
        "  os.makedirs(save_dir)"
      ],
      "metadata": {
        "id": "afGE8qC66u2S"
      },
      "execution_count": null,
      "outputs": []
    },
    {
      "cell_type": "code",
      "source": [
        "headers = {\"User-Agent\": \"Mozilla/5.0(Windows NT 10.0; Win64; x64) AppleWebKit/537.36 (KHTML, like Gecko) Chrome/58.0.3029.110 Safari/537.36\"}"
      ],
      "metadata": {
        "id": "emWyVN6T7EuG"
      },
      "execution_count": null,
      "outputs": []
    },
    {
      "cell_type": "code",
      "source": [
        "query = \"tulips\"\n",
        "response = requests.get(f\"https://www.google.com/search?q=tulips&sca_esv=598369466&tbm=isch&sxsrf=ACQVn0_3zuVnlNiNOOkJEfIJ1cbtkqJkeA:1705234711768&source=lnms&sa=X&ved=2ahUKEwj4mYOq7tyDAxW0avUHHe68BbQQ_AUoAXoECAMQAw&biw=1280&bih=585&dpr=1.5\")"
      ],
      "metadata": {
        "id": "UiRWuaDi8Z8j"
      },
      "execution_count": null,
      "outputs": []
    },
    {
      "cell_type": "code",
      "source": [
        "response"
      ],
      "metadata": {
        "colab": {
          "base_uri": "https://localhost:8080/"
        },
        "id": "-JgiB3Qx9nlO",
        "outputId": "aacee911-ff25-4f69-b155-829b3752ebd3"
      },
      "execution_count": null,
      "outputs": [
        {
          "output_type": "execute_result",
          "data": {
            "text/plain": [
              "<Response [200]>"
            ]
          },
          "metadata": {},
          "execution_count": 6
        }
      ]
    },
    {
      "cell_type": "code",
      "source": [
        "soup = BeautifulSoup(response.content,\"html.parser\")"
      ],
      "metadata": {
        "id": "OKpt3oW19rjc"
      },
      "execution_count": null,
      "outputs": []
    },
    {
      "cell_type": "code",
      "source": [
        "image_tags = soup.find_all(\"img\")"
      ],
      "metadata": {
        "id": "_6NIBSZg-Cbk"
      },
      "execution_count": null,
      "outputs": []
    },
    {
      "cell_type": "code",
      "source": [
        "del image_tags[0]"
      ],
      "metadata": {
        "id": "bNwnRQy4-WDF"
      },
      "execution_count": null,
      "outputs": []
    },
    {
      "cell_type": "code",
      "source": [
        "len(image_tags)"
      ],
      "metadata": {
        "colab": {
          "base_uri": "https://localhost:8080/"
        },
        "id": "xBczXWqH-bKO",
        "outputId": "7f692ec9-cf4c-4d38-888f-481a08bd1cd5"
      },
      "execution_count": null,
      "outputs": [
        {
          "output_type": "execute_result",
          "data": {
            "text/plain": [
              "20"
            ]
          },
          "metadata": {},
          "execution_count": 12
        }
      ]
    },
    {
      "cell_type": "code",
      "source": [
        "image_data_mongo = []\n",
        "for i in image_tags:\n",
        "  image_url = i['src']\n",
        "  image_data = requests.get(image_url).content\n",
        "  mydict = {\"index\": image_url, \"image\": image_data}\n",
        "  image_data_mongo.append(mydict)\n",
        "  with open(os.path.join(save_dir,f\"{query}_{image_tags.index(i)}.jpg\"), \"wb\") as f:\n",
        "           f.write(image_data)"
      ],
      "metadata": {
        "id": "oSRBOx7SAkgm"
      },
      "execution_count": null,
      "outputs": []
    },
    {
      "cell_type": "code",
      "source": [
        "image_data_mongo"
      ],
      "metadata": {
        "id": "z9tweo79TaJu"
      },
      "execution_count": null,
      "outputs": []
    }
  ]
}